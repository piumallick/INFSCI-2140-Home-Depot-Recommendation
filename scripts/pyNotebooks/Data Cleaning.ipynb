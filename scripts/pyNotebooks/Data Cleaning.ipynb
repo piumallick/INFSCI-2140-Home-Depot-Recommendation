{
 "cells": [
  {
   "cell_type": "code",
   "execution_count": 1,
   "metadata": {},
   "outputs": [],
   "source": [
    "#import necessary libraries\n",
    "import pandas as pd\n",
    "import numpy as np\n",
    "from nltk.tokenize import RegexpTokenizer\n",
    "from nltk.corpus import stopwords\n",
    "stop = stopwords.words('english')\n",
    "from nltk.stem import WordNetLemmatizer\n",
    "from nltk import PorterStemmer\n",
    "import re"
   ]
  },
  {
   "cell_type": "code",
   "execution_count": 2,
   "metadata": {},
   "outputs": [],
   "source": [
    "# read attribute.csv file\n",
    "attribute_df = pd.read_csv(\"attributes.csv\")"
   ]
  },
  {
   "cell_type": "code",
   "execution_count": 3,
   "metadata": {},
   "outputs": [
    {
     "data": {
      "text/html": [
       "<div>\n",
       "<style scoped>\n",
       "    .dataframe tbody tr th:only-of-type {\n",
       "        vertical-align: middle;\n",
       "    }\n",
       "\n",
       "    .dataframe tbody tr th {\n",
       "        vertical-align: top;\n",
       "    }\n",
       "\n",
       "    .dataframe thead th {\n",
       "        text-align: right;\n",
       "    }\n",
       "</style>\n",
       "<table border=\"1\" class=\"dataframe\">\n",
       "  <thead>\n",
       "    <tr style=\"text-align: right;\">\n",
       "      <th></th>\n",
       "      <th>product_uid</th>\n",
       "      <th>name</th>\n",
       "      <th>value</th>\n",
       "    </tr>\n",
       "  </thead>\n",
       "  <tbody>\n",
       "    <tr>\n",
       "      <th>0</th>\n",
       "      <td>100001.0</td>\n",
       "      <td>Bullet01</td>\n",
       "      <td>Versatile connector for various 90° connection...</td>\n",
       "    </tr>\n",
       "    <tr>\n",
       "      <th>1</th>\n",
       "      <td>100001.0</td>\n",
       "      <td>Bullet02</td>\n",
       "      <td>Stronger than angled nailing or screw fastenin...</td>\n",
       "    </tr>\n",
       "    <tr>\n",
       "      <th>2</th>\n",
       "      <td>100001.0</td>\n",
       "      <td>Bullet03</td>\n",
       "      <td>Help ensure joints are consistently straight a...</td>\n",
       "    </tr>\n",
       "    <tr>\n",
       "      <th>3</th>\n",
       "      <td>100001.0</td>\n",
       "      <td>Bullet04</td>\n",
       "      <td>Dimensions: 3 in. x 3 in. x 1-1/2 in.</td>\n",
       "    </tr>\n",
       "    <tr>\n",
       "      <th>4</th>\n",
       "      <td>100001.0</td>\n",
       "      <td>Bullet05</td>\n",
       "      <td>Made from 12-Gauge steel</td>\n",
       "    </tr>\n",
       "  </tbody>\n",
       "</table>\n",
       "</div>"
      ],
      "text/plain": [
       "   product_uid      name                                              value\n",
       "0     100001.0  Bullet01  Versatile connector for various 90° connection...\n",
       "1     100001.0  Bullet02  Stronger than angled nailing or screw fastenin...\n",
       "2     100001.0  Bullet03  Help ensure joints are consistently straight a...\n",
       "3     100001.0  Bullet04              Dimensions: 3 in. x 3 in. x 1-1/2 in.\n",
       "4     100001.0  Bullet05                           Made from 12-Gauge steel"
      ]
     },
     "execution_count": 3,
     "metadata": {},
     "output_type": "execute_result"
    }
   ],
   "source": [
    "attribute_df.head()"
   ]
  },
  {
   "cell_type": "code",
   "execution_count": 4,
   "metadata": {},
   "outputs": [
    {
     "data": {
      "text/plain": [
       "product_uid     155\n",
       "name            155\n",
       "value          2284\n",
       "dtype: int64"
      ]
     },
     "execution_count": 4,
     "metadata": {},
     "output_type": "execute_result"
    }
   ],
   "source": [
    "attribute_df.isnull().sum()"
   ]
  },
  {
   "cell_type": "code",
   "execution_count": 5,
   "metadata": {},
   "outputs": [],
   "source": [
    "# drop null values rows\n",
    "attribute_df = attribute_df.dropna()"
   ]
  },
  {
   "cell_type": "code",
   "execution_count": 6,
   "metadata": {},
   "outputs": [],
   "source": [
    "# merge name's multiple rows to single row based on product id\n",
    "attribute_df_new = attribute_df.groupby('product_uid')['name'].apply(','.join).reset_index()"
   ]
  },
  {
   "cell_type": "code",
   "execution_count": 7,
   "metadata": {},
   "outputs": [
    {
     "data": {
      "text/html": [
       "<div>\n",
       "<style scoped>\n",
       "    .dataframe tbody tr th:only-of-type {\n",
       "        vertical-align: middle;\n",
       "    }\n",
       "\n",
       "    .dataframe tbody tr th {\n",
       "        vertical-align: top;\n",
       "    }\n",
       "\n",
       "    .dataframe thead th {\n",
       "        text-align: right;\n",
       "    }\n",
       "</style>\n",
       "<table border=\"1\" class=\"dataframe\">\n",
       "  <thead>\n",
       "    <tr style=\"text-align: right;\">\n",
       "      <th></th>\n",
       "      <th>product_uid</th>\n",
       "      <th>name</th>\n",
       "    </tr>\n",
       "  </thead>\n",
       "  <tbody>\n",
       "    <tr>\n",
       "      <th>0</th>\n",
       "      <td>100001.0</td>\n",
       "      <td>Bullet01,Bullet02,Bullet03,Bullet04,Bullet05,B...</td>\n",
       "    </tr>\n",
       "    <tr>\n",
       "      <th>1</th>\n",
       "      <td>100002.0</td>\n",
       "      <td>Application Method,Assembled Depth (in.),Assem...</td>\n",
       "    </tr>\n",
       "    <tr>\n",
       "      <th>2</th>\n",
       "      <td>100003.0</td>\n",
       "      <td>Built-in flange,Bullet01,Bullet02,Bullet03,Bul...</td>\n",
       "    </tr>\n",
       "    <tr>\n",
       "      <th>3</th>\n",
       "      <td>100004.0</td>\n",
       "      <td>Amperage (amps),Bullet01,Bullet02,Bullet03,Bul...</td>\n",
       "    </tr>\n",
       "    <tr>\n",
       "      <th>4</th>\n",
       "      <td>100005.0</td>\n",
       "      <td>Bath Faucet Type,Built-in Water Filter,Bullet0...</td>\n",
       "    </tr>\n",
       "  </tbody>\n",
       "</table>\n",
       "</div>"
      ],
      "text/plain": [
       "   product_uid                                               name\n",
       "0     100001.0  Bullet01,Bullet02,Bullet03,Bullet04,Bullet05,B...\n",
       "1     100002.0  Application Method,Assembled Depth (in.),Assem...\n",
       "2     100003.0  Built-in flange,Bullet01,Bullet02,Bullet03,Bul...\n",
       "3     100004.0  Amperage (amps),Bullet01,Bullet02,Bullet03,Bul...\n",
       "4     100005.0  Bath Faucet Type,Built-in Water Filter,Bullet0..."
      ]
     },
     "execution_count": 7,
     "metadata": {},
     "output_type": "execute_result"
    }
   ],
   "source": [
    "attribute_df_new.head()"
   ]
  },
  {
   "cell_type": "code",
   "execution_count": 8,
   "metadata": {},
   "outputs": [],
   "source": [
    "# product_uid is float, convert it into int\n",
    "attribute_df_new['product_uid'] = attribute_df_new['product_uid'].astype(int)"
   ]
  },
  {
   "cell_type": "code",
   "execution_count": 9,
   "metadata": {},
   "outputs": [],
   "source": [
    "# value is object type, convert it into string\n",
    "attribute_df['value'] = attribute_df['value'].astype(str)"
   ]
  },
  {
   "cell_type": "code",
   "execution_count": 10,
   "metadata": {},
   "outputs": [],
   "source": [
    "#create a new df to store the merged values\n",
    "attribute_df_new1 = attribute_df.groupby('product_uid')['value'].apply(' '.join).reset_index()"
   ]
  },
  {
   "cell_type": "code",
   "execution_count": 11,
   "metadata": {},
   "outputs": [],
   "source": [
    "attribute_df_new1['product_uid'] = attribute_df_new1['product_uid'].astype(int)"
   ]
  },
  {
   "cell_type": "code",
   "execution_count": 12,
   "metadata": {},
   "outputs": [
    {
     "data": {
      "text/html": [
       "<div>\n",
       "<style scoped>\n",
       "    .dataframe tbody tr th:only-of-type {\n",
       "        vertical-align: middle;\n",
       "    }\n",
       "\n",
       "    .dataframe tbody tr th {\n",
       "        vertical-align: top;\n",
       "    }\n",
       "\n",
       "    .dataframe thead th {\n",
       "        text-align: right;\n",
       "    }\n",
       "</style>\n",
       "<table border=\"1\" class=\"dataframe\">\n",
       "  <thead>\n",
       "    <tr style=\"text-align: right;\">\n",
       "      <th></th>\n",
       "      <th>product_uid</th>\n",
       "      <th>value</th>\n",
       "    </tr>\n",
       "  </thead>\n",
       "  <tbody>\n",
       "    <tr>\n",
       "      <th>0</th>\n",
       "      <td>100001</td>\n",
       "      <td>Versatile connector for various 90° connection...</td>\n",
       "    </tr>\n",
       "    <tr>\n",
       "      <th>1</th>\n",
       "      <td>100002</td>\n",
       "      <td>Brush,Roller,Spray 6.63 in 7.76 in 6.63 in Rev...</td>\n",
       "    </tr>\n",
       "    <tr>\n",
       "      <th>2</th>\n",
       "      <td>100003</td>\n",
       "      <td>Yes Slightly narrower for tighter spaces Desig...</td>\n",
       "    </tr>\n",
       "    <tr>\n",
       "      <th>3</th>\n",
       "      <td>100004</td>\n",
       "      <td>8.56 Positive power tolerance (0 to +5-Watt) A...</td>\n",
       "    </tr>\n",
       "    <tr>\n",
       "      <th>4</th>\n",
       "      <td>100005</td>\n",
       "      <td>Combo Tub and Shower No Includes the trim kit ...</td>\n",
       "    </tr>\n",
       "  </tbody>\n",
       "</table>\n",
       "</div>"
      ],
      "text/plain": [
       "   product_uid                                              value\n",
       "0       100001  Versatile connector for various 90° connection...\n",
       "1       100002  Brush,Roller,Spray 6.63 in 7.76 in 6.63 in Rev...\n",
       "2       100003  Yes Slightly narrower for tighter spaces Desig...\n",
       "3       100004  8.56 Positive power tolerance (0 to +5-Watt) A...\n",
       "4       100005  Combo Tub and Shower No Includes the trim kit ..."
      ]
     },
     "execution_count": 12,
     "metadata": {},
     "output_type": "execute_result"
    }
   ],
   "source": [
    "attribute_df_new1.head()"
   ]
  },
  {
   "cell_type": "code",
   "execution_count": 13,
   "metadata": {},
   "outputs": [],
   "source": [
    "# join the two df\n",
    "attribute_df_merged = pd.merge(left=attribute_df_new, right=attribute_df_new1, how='left', left_on='product_uid', right_on='product_uid')"
   ]
  },
  {
   "cell_type": "code",
   "execution_count": 14,
   "metadata": {},
   "outputs": [
    {
     "data": {
      "text/html": [
       "<div>\n",
       "<style scoped>\n",
       "    .dataframe tbody tr th:only-of-type {\n",
       "        vertical-align: middle;\n",
       "    }\n",
       "\n",
       "    .dataframe tbody tr th {\n",
       "        vertical-align: top;\n",
       "    }\n",
       "\n",
       "    .dataframe thead th {\n",
       "        text-align: right;\n",
       "    }\n",
       "</style>\n",
       "<table border=\"1\" class=\"dataframe\">\n",
       "  <thead>\n",
       "    <tr style=\"text-align: right;\">\n",
       "      <th></th>\n",
       "      <th>product_uid</th>\n",
       "      <th>name</th>\n",
       "      <th>value</th>\n",
       "    </tr>\n",
       "  </thead>\n",
       "  <tbody>\n",
       "    <tr>\n",
       "      <th>0</th>\n",
       "      <td>100001</td>\n",
       "      <td>Bullet01,Bullet02,Bullet03,Bullet04,Bullet05,B...</td>\n",
       "      <td>Versatile connector for various 90° connection...</td>\n",
       "    </tr>\n",
       "    <tr>\n",
       "      <th>1</th>\n",
       "      <td>100002</td>\n",
       "      <td>Application Method,Assembled Depth (in.),Assem...</td>\n",
       "      <td>Brush,Roller,Spray 6.63 in 7.76 in 6.63 in Rev...</td>\n",
       "    </tr>\n",
       "    <tr>\n",
       "      <th>2</th>\n",
       "      <td>100003</td>\n",
       "      <td>Built-in flange,Bullet01,Bullet02,Bullet03,Bul...</td>\n",
       "      <td>Yes Slightly narrower for tighter spaces Desig...</td>\n",
       "    </tr>\n",
       "    <tr>\n",
       "      <th>3</th>\n",
       "      <td>100004</td>\n",
       "      <td>Amperage (amps),Bullet01,Bullet02,Bullet03,Bul...</td>\n",
       "      <td>8.56 Positive power tolerance (0 to +5-Watt) A...</td>\n",
       "    </tr>\n",
       "    <tr>\n",
       "      <th>4</th>\n",
       "      <td>100005</td>\n",
       "      <td>Bath Faucet Type,Built-in Water Filter,Bullet0...</td>\n",
       "      <td>Combo Tub and Shower No Includes the trim kit ...</td>\n",
       "    </tr>\n",
       "  </tbody>\n",
       "</table>\n",
       "</div>"
      ],
      "text/plain": [
       "   product_uid                                               name  \\\n",
       "0       100001  Bullet01,Bullet02,Bullet03,Bullet04,Bullet05,B...   \n",
       "1       100002  Application Method,Assembled Depth (in.),Assem...   \n",
       "2       100003  Built-in flange,Bullet01,Bullet02,Bullet03,Bul...   \n",
       "3       100004  Amperage (amps),Bullet01,Bullet02,Bullet03,Bul...   \n",
       "4       100005  Bath Faucet Type,Built-in Water Filter,Bullet0...   \n",
       "\n",
       "                                               value  \n",
       "0  Versatile connector for various 90° connection...  \n",
       "1  Brush,Roller,Spray 6.63 in 7.76 in 6.63 in Rev...  \n",
       "2  Yes Slightly narrower for tighter spaces Desig...  \n",
       "3  8.56 Positive power tolerance (0 to +5-Watt) A...  \n",
       "4  Combo Tub and Shower No Includes the trim kit ...  "
      ]
     },
     "execution_count": 14,
     "metadata": {},
     "output_type": "execute_result"
    }
   ],
   "source": [
    "attribute_df_merged.head()"
   ]
  },
  {
   "cell_type": "code",
   "execution_count": 15,
   "metadata": {},
   "outputs": [],
   "source": [
    "# read the product description csv file\n",
    "df_prod_description = pd.read_csv(\"product_descriptions.csv\", encoding='ISO-8859-1')"
   ]
  },
  {
   "cell_type": "code",
   "execution_count": 16,
   "metadata": {},
   "outputs": [
    {
     "data": {
      "text/html": [
       "<div>\n",
       "<style scoped>\n",
       "    .dataframe tbody tr th:only-of-type {\n",
       "        vertical-align: middle;\n",
       "    }\n",
       "\n",
       "    .dataframe tbody tr th {\n",
       "        vertical-align: top;\n",
       "    }\n",
       "\n",
       "    .dataframe thead th {\n",
       "        text-align: right;\n",
       "    }\n",
       "</style>\n",
       "<table border=\"1\" class=\"dataframe\">\n",
       "  <thead>\n",
       "    <tr style=\"text-align: right;\">\n",
       "      <th></th>\n",
       "      <th>product_uid</th>\n",
       "      <th>product_description</th>\n",
       "    </tr>\n",
       "  </thead>\n",
       "  <tbody>\n",
       "    <tr>\n",
       "      <th>0</th>\n",
       "      <td>100001</td>\n",
       "      <td>Not only do angles make joints stronger, they ...</td>\n",
       "    </tr>\n",
       "    <tr>\n",
       "      <th>1</th>\n",
       "      <td>100002</td>\n",
       "      <td>BEHR Premium Textured DECKOVER is an innovativ...</td>\n",
       "    </tr>\n",
       "    <tr>\n",
       "      <th>2</th>\n",
       "      <td>100003</td>\n",
       "      <td>Classic architecture meets contemporary design...</td>\n",
       "    </tr>\n",
       "    <tr>\n",
       "      <th>3</th>\n",
       "      <td>100004</td>\n",
       "      <td>The Grape Solar 265-Watt Polycrystalline PV So...</td>\n",
       "    </tr>\n",
       "    <tr>\n",
       "      <th>4</th>\n",
       "      <td>100005</td>\n",
       "      <td>Update your bathroom with the Delta Vero Singl...</td>\n",
       "    </tr>\n",
       "  </tbody>\n",
       "</table>\n",
       "</div>"
      ],
      "text/plain": [
       "   product_uid                                product_description\n",
       "0       100001  Not only do angles make joints stronger, they ...\n",
       "1       100002  BEHR Premium Textured DECKOVER is an innovativ...\n",
       "2       100003  Classic architecture meets contemporary design...\n",
       "3       100004  The Grape Solar 265-Watt Polycrystalline PV So...\n",
       "4       100005  Update your bathroom with the Delta Vero Singl..."
      ]
     },
     "execution_count": 16,
     "metadata": {},
     "output_type": "execute_result"
    }
   ],
   "source": [
    "df_prod_description.head()"
   ]
  },
  {
   "cell_type": "code",
   "execution_count": 17,
   "metadata": {},
   "outputs": [
    {
     "data": {
      "text/plain": [
       "product_uid            0\n",
       "product_description    0\n",
       "dtype: int64"
      ]
     },
     "execution_count": 17,
     "metadata": {},
     "output_type": "execute_result"
    }
   ],
   "source": [
    "df_prod_description.isnull().sum()"
   ]
  },
  {
   "cell_type": "code",
   "execution_count": 18,
   "metadata": {},
   "outputs": [],
   "source": [
    "# drop the nan values\n",
    "df_prod_description = df_prod_description.dropna()"
   ]
  },
  {
   "cell_type": "code",
   "execution_count": 19,
   "metadata": {},
   "outputs": [],
   "source": [
    "# merge the attribute table with product description\n",
    "attribute_df_merged = pd.merge(left=attribute_df_merged, right=df_prod_description, how='left', left_on='product_uid', right_on='product_uid')"
   ]
  },
  {
   "cell_type": "code",
   "execution_count": 20,
   "metadata": {},
   "outputs": [
    {
     "data": {
      "text/html": [
       "<div>\n",
       "<style scoped>\n",
       "    .dataframe tbody tr th:only-of-type {\n",
       "        vertical-align: middle;\n",
       "    }\n",
       "\n",
       "    .dataframe tbody tr th {\n",
       "        vertical-align: top;\n",
       "    }\n",
       "\n",
       "    .dataframe thead th {\n",
       "        text-align: right;\n",
       "    }\n",
       "</style>\n",
       "<table border=\"1\" class=\"dataframe\">\n",
       "  <thead>\n",
       "    <tr style=\"text-align: right;\">\n",
       "      <th></th>\n",
       "      <th>product_uid</th>\n",
       "      <th>name</th>\n",
       "      <th>value</th>\n",
       "      <th>product_description</th>\n",
       "    </tr>\n",
       "  </thead>\n",
       "  <tbody>\n",
       "    <tr>\n",
       "      <th>0</th>\n",
       "      <td>100001</td>\n",
       "      <td>Bullet01,Bullet02,Bullet03,Bullet04,Bullet05,B...</td>\n",
       "      <td>Versatile connector for various 90° connection...</td>\n",
       "      <td>Not only do angles make joints stronger, they ...</td>\n",
       "    </tr>\n",
       "    <tr>\n",
       "      <th>1</th>\n",
       "      <td>100002</td>\n",
       "      <td>Application Method,Assembled Depth (in.),Assem...</td>\n",
       "      <td>Brush,Roller,Spray 6.63 in 7.76 in 6.63 in Rev...</td>\n",
       "      <td>BEHR Premium Textured DECKOVER is an innovativ...</td>\n",
       "    </tr>\n",
       "    <tr>\n",
       "      <th>2</th>\n",
       "      <td>100003</td>\n",
       "      <td>Built-in flange,Bullet01,Bullet02,Bullet03,Bul...</td>\n",
       "      <td>Yes Slightly narrower for tighter spaces Desig...</td>\n",
       "      <td>Classic architecture meets contemporary design...</td>\n",
       "    </tr>\n",
       "    <tr>\n",
       "      <th>3</th>\n",
       "      <td>100004</td>\n",
       "      <td>Amperage (amps),Bullet01,Bullet02,Bullet03,Bul...</td>\n",
       "      <td>8.56 Positive power tolerance (0 to +5-Watt) A...</td>\n",
       "      <td>The Grape Solar 265-Watt Polycrystalline PV So...</td>\n",
       "    </tr>\n",
       "    <tr>\n",
       "      <th>4</th>\n",
       "      <td>100005</td>\n",
       "      <td>Bath Faucet Type,Built-in Water Filter,Bullet0...</td>\n",
       "      <td>Combo Tub and Shower No Includes the trim kit ...</td>\n",
       "      <td>Update your bathroom with the Delta Vero Singl...</td>\n",
       "    </tr>\n",
       "  </tbody>\n",
       "</table>\n",
       "</div>"
      ],
      "text/plain": [
       "   product_uid                                               name  \\\n",
       "0       100001  Bullet01,Bullet02,Bullet03,Bullet04,Bullet05,B...   \n",
       "1       100002  Application Method,Assembled Depth (in.),Assem...   \n",
       "2       100003  Built-in flange,Bullet01,Bullet02,Bullet03,Bul...   \n",
       "3       100004  Amperage (amps),Bullet01,Bullet02,Bullet03,Bul...   \n",
       "4       100005  Bath Faucet Type,Built-in Water Filter,Bullet0...   \n",
       "\n",
       "                                               value  \\\n",
       "0  Versatile connector for various 90° connection...   \n",
       "1  Brush,Roller,Spray 6.63 in 7.76 in 6.63 in Rev...   \n",
       "2  Yes Slightly narrower for tighter spaces Desig...   \n",
       "3  8.56 Positive power tolerance (0 to +5-Watt) A...   \n",
       "4  Combo Tub and Shower No Includes the trim kit ...   \n",
       "\n",
       "                                 product_description  \n",
       "0  Not only do angles make joints stronger, they ...  \n",
       "1  BEHR Premium Textured DECKOVER is an innovativ...  \n",
       "2  Classic architecture meets contemporary design...  \n",
       "3  The Grape Solar 265-Watt Polycrystalline PV So...  \n",
       "4  Update your bathroom with the Delta Vero Singl...  "
      ]
     },
     "execution_count": 20,
     "metadata": {},
     "output_type": "execute_result"
    }
   ],
   "source": [
    "attribute_df_merged.head()"
   ]
  },
  {
   "cell_type": "code",
   "execution_count": 21,
   "metadata": {},
   "outputs": [],
   "source": [
    "train_df = pd.read_csv(\"train.csv\", encoding='ISO-8859-1')"
   ]
  },
  {
   "cell_type": "code",
   "execution_count": 22,
   "metadata": {},
   "outputs": [
    {
     "data": {
      "text/html": [
       "<div>\n",
       "<style scoped>\n",
       "    .dataframe tbody tr th:only-of-type {\n",
       "        vertical-align: middle;\n",
       "    }\n",
       "\n",
       "    .dataframe tbody tr th {\n",
       "        vertical-align: top;\n",
       "    }\n",
       "\n",
       "    .dataframe thead th {\n",
       "        text-align: right;\n",
       "    }\n",
       "</style>\n",
       "<table border=\"1\" class=\"dataframe\">\n",
       "  <thead>\n",
       "    <tr style=\"text-align: right;\">\n",
       "      <th></th>\n",
       "      <th>id</th>\n",
       "      <th>product_uid</th>\n",
       "      <th>product_title</th>\n",
       "      <th>search_term</th>\n",
       "      <th>relevance</th>\n",
       "    </tr>\n",
       "  </thead>\n",
       "  <tbody>\n",
       "    <tr>\n",
       "      <th>0</th>\n",
       "      <td>2</td>\n",
       "      <td>100001</td>\n",
       "      <td>Simpson Strong-Tie 12-Gauge Angle</td>\n",
       "      <td>angle bracket</td>\n",
       "      <td>3.00</td>\n",
       "    </tr>\n",
       "    <tr>\n",
       "      <th>1</th>\n",
       "      <td>3</td>\n",
       "      <td>100001</td>\n",
       "      <td>Simpson Strong-Tie 12-Gauge Angle</td>\n",
       "      <td>l bracket</td>\n",
       "      <td>2.50</td>\n",
       "    </tr>\n",
       "    <tr>\n",
       "      <th>2</th>\n",
       "      <td>9</td>\n",
       "      <td>100002</td>\n",
       "      <td>BEHR Premium Textured DeckOver 1-gal. #SC-141 ...</td>\n",
       "      <td>deck over</td>\n",
       "      <td>3.00</td>\n",
       "    </tr>\n",
       "    <tr>\n",
       "      <th>3</th>\n",
       "      <td>16</td>\n",
       "      <td>100005</td>\n",
       "      <td>Delta Vero 1-Handle Shower Only Faucet Trim Ki...</td>\n",
       "      <td>rain shower head</td>\n",
       "      <td>2.33</td>\n",
       "    </tr>\n",
       "    <tr>\n",
       "      <th>4</th>\n",
       "      <td>17</td>\n",
       "      <td>100005</td>\n",
       "      <td>Delta Vero 1-Handle Shower Only Faucet Trim Ki...</td>\n",
       "      <td>shower only faucet</td>\n",
       "      <td>2.67</td>\n",
       "    </tr>\n",
       "  </tbody>\n",
       "</table>\n",
       "</div>"
      ],
      "text/plain": [
       "   id  product_uid                                      product_title  \\\n",
       "0   2       100001                  Simpson Strong-Tie 12-Gauge Angle   \n",
       "1   3       100001                  Simpson Strong-Tie 12-Gauge Angle   \n",
       "2   9       100002  BEHR Premium Textured DeckOver 1-gal. #SC-141 ...   \n",
       "3  16       100005  Delta Vero 1-Handle Shower Only Faucet Trim Ki...   \n",
       "4  17       100005  Delta Vero 1-Handle Shower Only Faucet Trim Ki...   \n",
       "\n",
       "          search_term  relevance  \n",
       "0       angle bracket       3.00  \n",
       "1           l bracket       2.50  \n",
       "2           deck over       3.00  \n",
       "3    rain shower head       2.33  \n",
       "4  shower only faucet       2.67  "
      ]
     },
     "execution_count": 22,
     "metadata": {},
     "output_type": "execute_result"
    }
   ],
   "source": [
    "train_df.head()"
   ]
  },
  {
   "cell_type": "code",
   "execution_count": 23,
   "metadata": {},
   "outputs": [
    {
     "data": {
      "text/plain": [
       "id               0\n",
       "product_uid      0\n",
       "product_title    0\n",
       "search_term      0\n",
       "relevance        0\n",
       "dtype: int64"
      ]
     },
     "execution_count": 23,
     "metadata": {},
     "output_type": "execute_result"
    }
   ],
   "source": [
    "train_df.isnull().sum()"
   ]
  },
  {
   "cell_type": "code",
   "execution_count": 24,
   "metadata": {},
   "outputs": [],
   "source": [
    "# merge the search_term \n",
    "df1_train_df = train_df.groupby('product_uid')['search_term'].apply(' ,'.join).reset_index()"
   ]
  },
  {
   "cell_type": "code",
   "execution_count": 25,
   "metadata": {},
   "outputs": [
    {
     "data": {
      "text/html": [
       "<div>\n",
       "<style scoped>\n",
       "    .dataframe tbody tr th:only-of-type {\n",
       "        vertical-align: middle;\n",
       "    }\n",
       "\n",
       "    .dataframe tbody tr th {\n",
       "        vertical-align: top;\n",
       "    }\n",
       "\n",
       "    .dataframe thead th {\n",
       "        text-align: right;\n",
       "    }\n",
       "</style>\n",
       "<table border=\"1\" class=\"dataframe\">\n",
       "  <thead>\n",
       "    <tr style=\"text-align: right;\">\n",
       "      <th></th>\n",
       "      <th>product_uid</th>\n",
       "      <th>search_term</th>\n",
       "    </tr>\n",
       "  </thead>\n",
       "  <tbody>\n",
       "    <tr>\n",
       "      <th>0</th>\n",
       "      <td>100001</td>\n",
       "      <td>angle bracket ,l bracket</td>\n",
       "    </tr>\n",
       "    <tr>\n",
       "      <th>1</th>\n",
       "      <td>100002</td>\n",
       "      <td>deck over</td>\n",
       "    </tr>\n",
       "    <tr>\n",
       "      <th>2</th>\n",
       "      <td>100005</td>\n",
       "      <td>rain shower head ,shower only faucet</td>\n",
       "    </tr>\n",
       "    <tr>\n",
       "      <th>3</th>\n",
       "      <td>100006</td>\n",
       "      <td>convection otr ,microwave over stove ,microwaves</td>\n",
       "    </tr>\n",
       "    <tr>\n",
       "      <th>4</th>\n",
       "      <td>100007</td>\n",
       "      <td>emergency light</td>\n",
       "    </tr>\n",
       "  </tbody>\n",
       "</table>\n",
       "</div>"
      ],
      "text/plain": [
       "   product_uid                                       search_term\n",
       "0       100001                          angle bracket ,l bracket\n",
       "1       100002                                         deck over\n",
       "2       100005              rain shower head ,shower only faucet\n",
       "3       100006  convection otr ,microwave over stove ,microwaves\n",
       "4       100007                                   emergency light"
      ]
     },
     "execution_count": 25,
     "metadata": {},
     "output_type": "execute_result"
    }
   ],
   "source": [
    "df1_train_df.head()"
   ]
  },
  {
   "cell_type": "code",
   "execution_count": 26,
   "metadata": {},
   "outputs": [],
   "source": [
    "train_df['relevance'] = train_df['relevance'].astype('str')"
   ]
  },
  {
   "cell_type": "code",
   "execution_count": 27,
   "metadata": {},
   "outputs": [],
   "source": [
    "df2_train_df = train_df.groupby('product_uid')['relevance'].apply(','.join).reset_index()"
   ]
  },
  {
   "cell_type": "code",
   "execution_count": 28,
   "metadata": {},
   "outputs": [
    {
     "data": {
      "text/html": [
       "<div>\n",
       "<style scoped>\n",
       "    .dataframe tbody tr th:only-of-type {\n",
       "        vertical-align: middle;\n",
       "    }\n",
       "\n",
       "    .dataframe tbody tr th {\n",
       "        vertical-align: top;\n",
       "    }\n",
       "\n",
       "    .dataframe thead th {\n",
       "        text-align: right;\n",
       "    }\n",
       "</style>\n",
       "<table border=\"1\" class=\"dataframe\">\n",
       "  <thead>\n",
       "    <tr style=\"text-align: right;\">\n",
       "      <th></th>\n",
       "      <th>product_uid</th>\n",
       "      <th>relevance</th>\n",
       "    </tr>\n",
       "  </thead>\n",
       "  <tbody>\n",
       "    <tr>\n",
       "      <th>0</th>\n",
       "      <td>100001</td>\n",
       "      <td>3.0,2.5</td>\n",
       "    </tr>\n",
       "    <tr>\n",
       "      <th>1</th>\n",
       "      <td>100002</td>\n",
       "      <td>3.0</td>\n",
       "    </tr>\n",
       "    <tr>\n",
       "      <th>2</th>\n",
       "      <td>100005</td>\n",
       "      <td>2.33,2.67</td>\n",
       "    </tr>\n",
       "    <tr>\n",
       "      <th>3</th>\n",
       "      <td>100006</td>\n",
       "      <td>3.0,2.67,3.0</td>\n",
       "    </tr>\n",
       "    <tr>\n",
       "      <th>4</th>\n",
       "      <td>100007</td>\n",
       "      <td>2.67</td>\n",
       "    </tr>\n",
       "  </tbody>\n",
       "</table>\n",
       "</div>"
      ],
      "text/plain": [
       "   product_uid     relevance\n",
       "0       100001       3.0,2.5\n",
       "1       100002           3.0\n",
       "2       100005     2.33,2.67\n",
       "3       100006  3.0,2.67,3.0\n",
       "4       100007          2.67"
      ]
     },
     "execution_count": 28,
     "metadata": {},
     "output_type": "execute_result"
    }
   ],
   "source": [
    "df2_train_df.head()"
   ]
  },
  {
   "cell_type": "code",
   "execution_count": 29,
   "metadata": {},
   "outputs": [],
   "source": [
    "df3_train_df = train_df.groupby('product_uid')['product_title'].apply(','.join).reset_index()"
   ]
  },
  {
   "cell_type": "code",
   "execution_count": 30,
   "metadata": {},
   "outputs": [
    {
     "data": {
      "text/html": [
       "<div>\n",
       "<style scoped>\n",
       "    .dataframe tbody tr th:only-of-type {\n",
       "        vertical-align: middle;\n",
       "    }\n",
       "\n",
       "    .dataframe tbody tr th {\n",
       "        vertical-align: top;\n",
       "    }\n",
       "\n",
       "    .dataframe thead th {\n",
       "        text-align: right;\n",
       "    }\n",
       "</style>\n",
       "<table border=\"1\" class=\"dataframe\">\n",
       "  <thead>\n",
       "    <tr style=\"text-align: right;\">\n",
       "      <th></th>\n",
       "      <th>product_uid</th>\n",
       "      <th>product_title</th>\n",
       "    </tr>\n",
       "  </thead>\n",
       "  <tbody>\n",
       "    <tr>\n",
       "      <th>0</th>\n",
       "      <td>100001</td>\n",
       "      <td>Simpson Strong-Tie 12-Gauge Angle,Simpson Stro...</td>\n",
       "    </tr>\n",
       "    <tr>\n",
       "      <th>1</th>\n",
       "      <td>100002</td>\n",
       "      <td>BEHR Premium Textured DeckOver 1-gal. #SC-141 ...</td>\n",
       "    </tr>\n",
       "    <tr>\n",
       "      <th>2</th>\n",
       "      <td>100005</td>\n",
       "      <td>Delta Vero 1-Handle Shower Only Faucet Trim Ki...</td>\n",
       "    </tr>\n",
       "    <tr>\n",
       "      <th>3</th>\n",
       "      <td>100006</td>\n",
       "      <td>Whirlpool 1.9 cu. ft. Over the Range Convectio...</td>\n",
       "    </tr>\n",
       "    <tr>\n",
       "      <th>4</th>\n",
       "      <td>100007</td>\n",
       "      <td>Lithonia Lighting Quantum 2-Light Black LED Em...</td>\n",
       "    </tr>\n",
       "  </tbody>\n",
       "</table>\n",
       "</div>"
      ],
      "text/plain": [
       "   product_uid                                      product_title\n",
       "0       100001  Simpson Strong-Tie 12-Gauge Angle,Simpson Stro...\n",
       "1       100002  BEHR Premium Textured DeckOver 1-gal. #SC-141 ...\n",
       "2       100005  Delta Vero 1-Handle Shower Only Faucet Trim Ki...\n",
       "3       100006  Whirlpool 1.9 cu. ft. Over the Range Convectio...\n",
       "4       100007  Lithonia Lighting Quantum 2-Light Black LED Em..."
      ]
     },
     "execution_count": 30,
     "metadata": {},
     "output_type": "execute_result"
    }
   ],
   "source": [
    "df3_train_df.head()"
   ]
  },
  {
   "cell_type": "code",
   "execution_count": 31,
   "metadata": {},
   "outputs": [],
   "source": [
    "merged_train = pd.merge(left = df1_train_df, right = df2_train_df, how = 'left', left_on = 'product_uid', right_on='product_uid')"
   ]
  },
  {
   "cell_type": "code",
   "execution_count": 32,
   "metadata": {},
   "outputs": [
    {
     "data": {
      "text/html": [
       "<div>\n",
       "<style scoped>\n",
       "    .dataframe tbody tr th:only-of-type {\n",
       "        vertical-align: middle;\n",
       "    }\n",
       "\n",
       "    .dataframe tbody tr th {\n",
       "        vertical-align: top;\n",
       "    }\n",
       "\n",
       "    .dataframe thead th {\n",
       "        text-align: right;\n",
       "    }\n",
       "</style>\n",
       "<table border=\"1\" class=\"dataframe\">\n",
       "  <thead>\n",
       "    <tr style=\"text-align: right;\">\n",
       "      <th></th>\n",
       "      <th>product_uid</th>\n",
       "      <th>search_term</th>\n",
       "      <th>relevance</th>\n",
       "    </tr>\n",
       "  </thead>\n",
       "  <tbody>\n",
       "    <tr>\n",
       "      <th>0</th>\n",
       "      <td>100001</td>\n",
       "      <td>angle bracket ,l bracket</td>\n",
       "      <td>3.0,2.5</td>\n",
       "    </tr>\n",
       "    <tr>\n",
       "      <th>1</th>\n",
       "      <td>100002</td>\n",
       "      <td>deck over</td>\n",
       "      <td>3.0</td>\n",
       "    </tr>\n",
       "    <tr>\n",
       "      <th>2</th>\n",
       "      <td>100005</td>\n",
       "      <td>rain shower head ,shower only faucet</td>\n",
       "      <td>2.33,2.67</td>\n",
       "    </tr>\n",
       "    <tr>\n",
       "      <th>3</th>\n",
       "      <td>100006</td>\n",
       "      <td>convection otr ,microwave over stove ,microwaves</td>\n",
       "      <td>3.0,2.67,3.0</td>\n",
       "    </tr>\n",
       "    <tr>\n",
       "      <th>4</th>\n",
       "      <td>100007</td>\n",
       "      <td>emergency light</td>\n",
       "      <td>2.67</td>\n",
       "    </tr>\n",
       "  </tbody>\n",
       "</table>\n",
       "</div>"
      ],
      "text/plain": [
       "   product_uid                                       search_term     relevance\n",
       "0       100001                          angle bracket ,l bracket       3.0,2.5\n",
       "1       100002                                         deck over           3.0\n",
       "2       100005              rain shower head ,shower only faucet     2.33,2.67\n",
       "3       100006  convection otr ,microwave over stove ,microwaves  3.0,2.67,3.0\n",
       "4       100007                                   emergency light          2.67"
      ]
     },
     "execution_count": 32,
     "metadata": {},
     "output_type": "execute_result"
    }
   ],
   "source": [
    "merged_train.head()"
   ]
  },
  {
   "cell_type": "code",
   "execution_count": 33,
   "metadata": {},
   "outputs": [],
   "source": [
    "merged_train = pd.merge(left = merged_train, right = df3_train_df, how = 'left', left_on = 'product_uid', right_on='product_uid')"
   ]
  },
  {
   "cell_type": "code",
   "execution_count": 34,
   "metadata": {},
   "outputs": [
    {
     "data": {
      "text/html": [
       "<div>\n",
       "<style scoped>\n",
       "    .dataframe tbody tr th:only-of-type {\n",
       "        vertical-align: middle;\n",
       "    }\n",
       "\n",
       "    .dataframe tbody tr th {\n",
       "        vertical-align: top;\n",
       "    }\n",
       "\n",
       "    .dataframe thead th {\n",
       "        text-align: right;\n",
       "    }\n",
       "</style>\n",
       "<table border=\"1\" class=\"dataframe\">\n",
       "  <thead>\n",
       "    <tr style=\"text-align: right;\">\n",
       "      <th></th>\n",
       "      <th>product_uid</th>\n",
       "      <th>search_term</th>\n",
       "      <th>relevance</th>\n",
       "      <th>product_title</th>\n",
       "    </tr>\n",
       "  </thead>\n",
       "  <tbody>\n",
       "    <tr>\n",
       "      <th>0</th>\n",
       "      <td>100001</td>\n",
       "      <td>angle bracket ,l bracket</td>\n",
       "      <td>3.0,2.5</td>\n",
       "      <td>Simpson Strong-Tie 12-Gauge Angle,Simpson Stro...</td>\n",
       "    </tr>\n",
       "    <tr>\n",
       "      <th>1</th>\n",
       "      <td>100002</td>\n",
       "      <td>deck over</td>\n",
       "      <td>3.0</td>\n",
       "      <td>BEHR Premium Textured DeckOver 1-gal. #SC-141 ...</td>\n",
       "    </tr>\n",
       "    <tr>\n",
       "      <th>2</th>\n",
       "      <td>100005</td>\n",
       "      <td>rain shower head ,shower only faucet</td>\n",
       "      <td>2.33,2.67</td>\n",
       "      <td>Delta Vero 1-Handle Shower Only Faucet Trim Ki...</td>\n",
       "    </tr>\n",
       "    <tr>\n",
       "      <th>3</th>\n",
       "      <td>100006</td>\n",
       "      <td>convection otr ,microwave over stove ,microwaves</td>\n",
       "      <td>3.0,2.67,3.0</td>\n",
       "      <td>Whirlpool 1.9 cu. ft. Over the Range Convectio...</td>\n",
       "    </tr>\n",
       "    <tr>\n",
       "      <th>4</th>\n",
       "      <td>100007</td>\n",
       "      <td>emergency light</td>\n",
       "      <td>2.67</td>\n",
       "      <td>Lithonia Lighting Quantum 2-Light Black LED Em...</td>\n",
       "    </tr>\n",
       "  </tbody>\n",
       "</table>\n",
       "</div>"
      ],
      "text/plain": [
       "   product_uid                                       search_term  \\\n",
       "0       100001                          angle bracket ,l bracket   \n",
       "1       100002                                         deck over   \n",
       "2       100005              rain shower head ,shower only faucet   \n",
       "3       100006  convection otr ,microwave over stove ,microwaves   \n",
       "4       100007                                   emergency light   \n",
       "\n",
       "      relevance                                      product_title  \n",
       "0       3.0,2.5  Simpson Strong-Tie 12-Gauge Angle,Simpson Stro...  \n",
       "1           3.0  BEHR Premium Textured DeckOver 1-gal. #SC-141 ...  \n",
       "2     2.33,2.67  Delta Vero 1-Handle Shower Only Faucet Trim Ki...  \n",
       "3  3.0,2.67,3.0  Whirlpool 1.9 cu. ft. Over the Range Convectio...  \n",
       "4          2.67  Lithonia Lighting Quantum 2-Light Black LED Em...  "
      ]
     },
     "execution_count": 34,
     "metadata": {},
     "output_type": "execute_result"
    }
   ],
   "source": [
    "merged_train.head()"
   ]
  },
  {
   "cell_type": "code",
   "execution_count": 35,
   "metadata": {},
   "outputs": [
    {
     "data": {
      "text/html": [
       "<div>\n",
       "<style scoped>\n",
       "    .dataframe tbody tr th:only-of-type {\n",
       "        vertical-align: middle;\n",
       "    }\n",
       "\n",
       "    .dataframe tbody tr th {\n",
       "        vertical-align: top;\n",
       "    }\n",
       "\n",
       "    .dataframe thead th {\n",
       "        text-align: right;\n",
       "    }\n",
       "</style>\n",
       "<table border=\"1\" class=\"dataframe\">\n",
       "  <thead>\n",
       "    <tr style=\"text-align: right;\">\n",
       "      <th></th>\n",
       "      <th>product_uid</th>\n",
       "      <th>name</th>\n",
       "      <th>value</th>\n",
       "      <th>product_description</th>\n",
       "    </tr>\n",
       "  </thead>\n",
       "  <tbody>\n",
       "    <tr>\n",
       "      <th>0</th>\n",
       "      <td>100001</td>\n",
       "      <td>Bullet01,Bullet02,Bullet03,Bullet04,Bullet05,B...</td>\n",
       "      <td>Versatile connector for various 90° connection...</td>\n",
       "      <td>Not only do angles make joints stronger, they ...</td>\n",
       "    </tr>\n",
       "    <tr>\n",
       "      <th>1</th>\n",
       "      <td>100002</td>\n",
       "      <td>Application Method,Assembled Depth (in.),Assem...</td>\n",
       "      <td>Brush,Roller,Spray 6.63 in 7.76 in 6.63 in Rev...</td>\n",
       "      <td>BEHR Premium Textured DECKOVER is an innovativ...</td>\n",
       "    </tr>\n",
       "    <tr>\n",
       "      <th>2</th>\n",
       "      <td>100003</td>\n",
       "      <td>Built-in flange,Bullet01,Bullet02,Bullet03,Bul...</td>\n",
       "      <td>Yes Slightly narrower for tighter spaces Desig...</td>\n",
       "      <td>Classic architecture meets contemporary design...</td>\n",
       "    </tr>\n",
       "    <tr>\n",
       "      <th>3</th>\n",
       "      <td>100004</td>\n",
       "      <td>Amperage (amps),Bullet01,Bullet02,Bullet03,Bul...</td>\n",
       "      <td>8.56 Positive power tolerance (0 to +5-Watt) A...</td>\n",
       "      <td>The Grape Solar 265-Watt Polycrystalline PV So...</td>\n",
       "    </tr>\n",
       "    <tr>\n",
       "      <th>4</th>\n",
       "      <td>100005</td>\n",
       "      <td>Bath Faucet Type,Built-in Water Filter,Bullet0...</td>\n",
       "      <td>Combo Tub and Shower No Includes the trim kit ...</td>\n",
       "      <td>Update your bathroom with the Delta Vero Singl...</td>\n",
       "    </tr>\n",
       "  </tbody>\n",
       "</table>\n",
       "</div>"
      ],
      "text/plain": [
       "   product_uid                                               name  \\\n",
       "0       100001  Bullet01,Bullet02,Bullet03,Bullet04,Bullet05,B...   \n",
       "1       100002  Application Method,Assembled Depth (in.),Assem...   \n",
       "2       100003  Built-in flange,Bullet01,Bullet02,Bullet03,Bul...   \n",
       "3       100004  Amperage (amps),Bullet01,Bullet02,Bullet03,Bul...   \n",
       "4       100005  Bath Faucet Type,Built-in Water Filter,Bullet0...   \n",
       "\n",
       "                                               value  \\\n",
       "0  Versatile connector for various 90° connection...   \n",
       "1  Brush,Roller,Spray 6.63 in 7.76 in 6.63 in Rev...   \n",
       "2  Yes Slightly narrower for tighter spaces Desig...   \n",
       "3  8.56 Positive power tolerance (0 to +5-Watt) A...   \n",
       "4  Combo Tub and Shower No Includes the trim kit ...   \n",
       "\n",
       "                                 product_description  \n",
       "0  Not only do angles make joints stronger, they ...  \n",
       "1  BEHR Premium Textured DECKOVER is an innovativ...  \n",
       "2  Classic architecture meets contemporary design...  \n",
       "3  The Grape Solar 265-Watt Polycrystalline PV So...  \n",
       "4  Update your bathroom with the Delta Vero Singl...  "
      ]
     },
     "execution_count": 35,
     "metadata": {},
     "output_type": "execute_result"
    }
   ],
   "source": [
    "attribute_df_merged.head()"
   ]
  },
  {
   "cell_type": "code",
   "execution_count": 36,
   "metadata": {},
   "outputs": [],
   "source": [
    "result_df = pd.merge(left=merged_train, right=attribute_df_merged, how='outer', left_on='product_uid', right_on='product_uid')"
   ]
  },
  {
   "cell_type": "code",
   "execution_count": 37,
   "metadata": {},
   "outputs": [
    {
     "data": {
      "text/html": [
       "<div>\n",
       "<style scoped>\n",
       "    .dataframe tbody tr th:only-of-type {\n",
       "        vertical-align: middle;\n",
       "    }\n",
       "\n",
       "    .dataframe tbody tr th {\n",
       "        vertical-align: top;\n",
       "    }\n",
       "\n",
       "    .dataframe thead th {\n",
       "        text-align: right;\n",
       "    }\n",
       "</style>\n",
       "<table border=\"1\" class=\"dataframe\">\n",
       "  <thead>\n",
       "    <tr style=\"text-align: right;\">\n",
       "      <th></th>\n",
       "      <th>product_uid</th>\n",
       "      <th>search_term</th>\n",
       "      <th>relevance</th>\n",
       "      <th>product_title</th>\n",
       "      <th>name</th>\n",
       "      <th>value</th>\n",
       "      <th>product_description</th>\n",
       "    </tr>\n",
       "  </thead>\n",
       "  <tbody>\n",
       "    <tr>\n",
       "      <th>0</th>\n",
       "      <td>100001</td>\n",
       "      <td>angle bracket ,l bracket</td>\n",
       "      <td>3.0,2.5</td>\n",
       "      <td>Simpson Strong-Tie 12-Gauge Angle,Simpson Stro...</td>\n",
       "      <td>Bullet01,Bullet02,Bullet03,Bullet04,Bullet05,B...</td>\n",
       "      <td>Versatile connector for various 90° connection...</td>\n",
       "      <td>Not only do angles make joints stronger, they ...</td>\n",
       "    </tr>\n",
       "    <tr>\n",
       "      <th>1</th>\n",
       "      <td>100002</td>\n",
       "      <td>deck over</td>\n",
       "      <td>3.0</td>\n",
       "      <td>BEHR Premium Textured DeckOver 1-gal. #SC-141 ...</td>\n",
       "      <td>Application Method,Assembled Depth (in.),Assem...</td>\n",
       "      <td>Brush,Roller,Spray 6.63 in 7.76 in 6.63 in Rev...</td>\n",
       "      <td>BEHR Premium Textured DECKOVER is an innovativ...</td>\n",
       "    </tr>\n",
       "    <tr>\n",
       "      <th>2</th>\n",
       "      <td>100005</td>\n",
       "      <td>rain shower head ,shower only faucet</td>\n",
       "      <td>2.33,2.67</td>\n",
       "      <td>Delta Vero 1-Handle Shower Only Faucet Trim Ki...</td>\n",
       "      <td>Bath Faucet Type,Built-in Water Filter,Bullet0...</td>\n",
       "      <td>Combo Tub and Shower No Includes the trim kit ...</td>\n",
       "      <td>Update your bathroom with the Delta Vero Singl...</td>\n",
       "    </tr>\n",
       "    <tr>\n",
       "      <th>3</th>\n",
       "      <td>100006</td>\n",
       "      <td>convection otr ,microwave over stove ,microwaves</td>\n",
       "      <td>3.0,2.67,3.0</td>\n",
       "      <td>Whirlpool 1.9 cu. ft. Over the Range Convectio...</td>\n",
       "      <td>Appliance Type,Assembled Depth (in.),Assembled...</td>\n",
       "      <td>Over the Range Microwave 18.5 in 17.13 in 29.9...</td>\n",
       "      <td>Achieving delicious results is almost effortle...</td>\n",
       "    </tr>\n",
       "    <tr>\n",
       "      <th>4</th>\n",
       "      <td>100007</td>\n",
       "      <td>emergency light</td>\n",
       "      <td>2.67</td>\n",
       "      <td>Lithonia Lighting Quantum 2-Light Black LED Em...</td>\n",
       "      <td>Battery Power Type,Battery Size,Bulb Type Incl...</td>\n",
       "      <td>Ni-Cad .Built-In LED Advanced LED technology i...</td>\n",
       "      <td>The Quantum Adjustable 2-Light LED Black Emerg...</td>\n",
       "    </tr>\n",
       "  </tbody>\n",
       "</table>\n",
       "</div>"
      ],
      "text/plain": [
       "   product_uid                                       search_term  \\\n",
       "0       100001                          angle bracket ,l bracket   \n",
       "1       100002                                         deck over   \n",
       "2       100005              rain shower head ,shower only faucet   \n",
       "3       100006  convection otr ,microwave over stove ,microwaves   \n",
       "4       100007                                   emergency light   \n",
       "\n",
       "      relevance                                      product_title  \\\n",
       "0       3.0,2.5  Simpson Strong-Tie 12-Gauge Angle,Simpson Stro...   \n",
       "1           3.0  BEHR Premium Textured DeckOver 1-gal. #SC-141 ...   \n",
       "2     2.33,2.67  Delta Vero 1-Handle Shower Only Faucet Trim Ki...   \n",
       "3  3.0,2.67,3.0  Whirlpool 1.9 cu. ft. Over the Range Convectio...   \n",
       "4          2.67  Lithonia Lighting Quantum 2-Light Black LED Em...   \n",
       "\n",
       "                                                name  \\\n",
       "0  Bullet01,Bullet02,Bullet03,Bullet04,Bullet05,B...   \n",
       "1  Application Method,Assembled Depth (in.),Assem...   \n",
       "2  Bath Faucet Type,Built-in Water Filter,Bullet0...   \n",
       "3  Appliance Type,Assembled Depth (in.),Assembled...   \n",
       "4  Battery Power Type,Battery Size,Bulb Type Incl...   \n",
       "\n",
       "                                               value  \\\n",
       "0  Versatile connector for various 90° connection...   \n",
       "1  Brush,Roller,Spray 6.63 in 7.76 in 6.63 in Rev...   \n",
       "2  Combo Tub and Shower No Includes the trim kit ...   \n",
       "3  Over the Range Microwave 18.5 in 17.13 in 29.9...   \n",
       "4  Ni-Cad .Built-In LED Advanced LED technology i...   \n",
       "\n",
       "                                 product_description  \n",
       "0  Not only do angles make joints stronger, they ...  \n",
       "1  BEHR Premium Textured DECKOVER is an innovativ...  \n",
       "2  Update your bathroom with the Delta Vero Singl...  \n",
       "3  Achieving delicious results is almost effortle...  \n",
       "4  The Quantum Adjustable 2-Light LED Black Emerg...  "
      ]
     },
     "execution_count": 37,
     "metadata": {},
     "output_type": "execute_result"
    }
   ],
   "source": [
    "result_df.head()"
   ]
  },
  {
   "cell_type": "code",
   "execution_count": 38,
   "metadata": {},
   "outputs": [
    {
     "data": {
      "text/plain": [
       "(102526, 7)"
      ]
     },
     "execution_count": 38,
     "metadata": {},
     "output_type": "execute_result"
    }
   ],
   "source": [
    "result_df.shape"
   ]
  },
  {
   "cell_type": "code",
   "execution_count": 39,
   "metadata": {},
   "outputs": [],
   "source": [
    "result_df = result_df.dropna()"
   ]
  },
  {
   "cell_type": "code",
   "execution_count": 40,
   "metadata": {},
   "outputs": [
    {
     "data": {
      "text/plain": [
       "product_uid            38404\n",
       "search_term            38404\n",
       "relevance              38404\n",
       "product_title          38404\n",
       "name                   38404\n",
       "value                  38404\n",
       "product_description    38404\n",
       "dtype: int64"
      ]
     },
     "execution_count": 40,
     "metadata": {},
     "output_type": "execute_result"
    }
   ],
   "source": [
    "result_df.isnull().count()"
   ]
  },
  {
   "cell_type": "code",
   "execution_count": 41,
   "metadata": {},
   "outputs": [
    {
     "data": {
      "text/plain": [
       "(38404, 7)"
      ]
     },
     "execution_count": 41,
     "metadata": {},
     "output_type": "execute_result"
    }
   ],
   "source": [
    "result_df.shape"
   ]
  },
  {
   "cell_type": "code",
   "execution_count": 42,
   "metadata": {},
   "outputs": [
    {
     "data": {
      "text/plain": [
       "product_uid            0\n",
       "search_term            0\n",
       "relevance              0\n",
       "product_title          0\n",
       "name                   0\n",
       "value                  0\n",
       "product_description    0\n",
       "dtype: int64"
      ]
     },
     "execution_count": 42,
     "metadata": {},
     "output_type": "execute_result"
    }
   ],
   "source": [
    "result_df.isnull().sum()"
   ]
  },
  {
   "cell_type": "code",
   "execution_count": 43,
   "metadata": {},
   "outputs": [
    {
     "data": {
      "text/html": [
       "<div>\n",
       "<style scoped>\n",
       "    .dataframe tbody tr th:only-of-type {\n",
       "        vertical-align: middle;\n",
       "    }\n",
       "\n",
       "    .dataframe tbody tr th {\n",
       "        vertical-align: top;\n",
       "    }\n",
       "\n",
       "    .dataframe thead th {\n",
       "        text-align: right;\n",
       "    }\n",
       "</style>\n",
       "<table border=\"1\" class=\"dataframe\">\n",
       "  <thead>\n",
       "    <tr style=\"text-align: right;\">\n",
       "      <th></th>\n",
       "      <th>product_uid</th>\n",
       "      <th>search_term</th>\n",
       "      <th>relevance</th>\n",
       "      <th>product_title</th>\n",
       "      <th>name</th>\n",
       "      <th>value</th>\n",
       "      <th>product_description</th>\n",
       "    </tr>\n",
       "  </thead>\n",
       "  <tbody>\n",
       "    <tr>\n",
       "      <th>0</th>\n",
       "      <td>100001</td>\n",
       "      <td>angle bracket ,l bracket</td>\n",
       "      <td>3.0,2.5</td>\n",
       "      <td>Simpson Strong-Tie 12-Gauge Angle,Simpson Stro...</td>\n",
       "      <td>Bullet01,Bullet02,Bullet03,Bullet04,Bullet05,B...</td>\n",
       "      <td>Versatile connector for various 90° connection...</td>\n",
       "      <td>Not only do angles make joints stronger, they ...</td>\n",
       "    </tr>\n",
       "    <tr>\n",
       "      <th>1</th>\n",
       "      <td>100002</td>\n",
       "      <td>deck over</td>\n",
       "      <td>3.0</td>\n",
       "      <td>BEHR Premium Textured DeckOver 1-gal. #SC-141 ...</td>\n",
       "      <td>Application Method,Assembled Depth (in.),Assem...</td>\n",
       "      <td>Brush,Roller,Spray 6.63 in 7.76 in 6.63 in Rev...</td>\n",
       "      <td>BEHR Premium Textured DECKOVER is an innovativ...</td>\n",
       "    </tr>\n",
       "    <tr>\n",
       "      <th>2</th>\n",
       "      <td>100005</td>\n",
       "      <td>rain shower head ,shower only faucet</td>\n",
       "      <td>2.33,2.67</td>\n",
       "      <td>Delta Vero 1-Handle Shower Only Faucet Trim Ki...</td>\n",
       "      <td>Bath Faucet Type,Built-in Water Filter,Bullet0...</td>\n",
       "      <td>Combo Tub and Shower No Includes the trim kit ...</td>\n",
       "      <td>Update your bathroom with the Delta Vero Singl...</td>\n",
       "    </tr>\n",
       "    <tr>\n",
       "      <th>3</th>\n",
       "      <td>100006</td>\n",
       "      <td>convection otr ,microwave over stove ,microwaves</td>\n",
       "      <td>3.0,2.67,3.0</td>\n",
       "      <td>Whirlpool 1.9 cu. ft. Over the Range Convectio...</td>\n",
       "      <td>Appliance Type,Assembled Depth (in.),Assembled...</td>\n",
       "      <td>Over the Range Microwave 18.5 in 17.13 in 29.9...</td>\n",
       "      <td>Achieving delicious results is almost effortle...</td>\n",
       "    </tr>\n",
       "    <tr>\n",
       "      <th>4</th>\n",
       "      <td>100007</td>\n",
       "      <td>emergency light</td>\n",
       "      <td>2.67</td>\n",
       "      <td>Lithonia Lighting Quantum 2-Light Black LED Em...</td>\n",
       "      <td>Battery Power Type,Battery Size,Bulb Type Incl...</td>\n",
       "      <td>Ni-Cad .Built-In LED Advanced LED technology i...</td>\n",
       "      <td>The Quantum Adjustable 2-Light LED Black Emerg...</td>\n",
       "    </tr>\n",
       "  </tbody>\n",
       "</table>\n",
       "</div>"
      ],
      "text/plain": [
       "   product_uid                                       search_term  \\\n",
       "0       100001                          angle bracket ,l bracket   \n",
       "1       100002                                         deck over   \n",
       "2       100005              rain shower head ,shower only faucet   \n",
       "3       100006  convection otr ,microwave over stove ,microwaves   \n",
       "4       100007                                   emergency light   \n",
       "\n",
       "      relevance                                      product_title  \\\n",
       "0       3.0,2.5  Simpson Strong-Tie 12-Gauge Angle,Simpson Stro...   \n",
       "1           3.0  BEHR Premium Textured DeckOver 1-gal. #SC-141 ...   \n",
       "2     2.33,2.67  Delta Vero 1-Handle Shower Only Faucet Trim Ki...   \n",
       "3  3.0,2.67,3.0  Whirlpool 1.9 cu. ft. Over the Range Convectio...   \n",
       "4          2.67  Lithonia Lighting Quantum 2-Light Black LED Em...   \n",
       "\n",
       "                                                name  \\\n",
       "0  Bullet01,Bullet02,Bullet03,Bullet04,Bullet05,B...   \n",
       "1  Application Method,Assembled Depth (in.),Assem...   \n",
       "2  Bath Faucet Type,Built-in Water Filter,Bullet0...   \n",
       "3  Appliance Type,Assembled Depth (in.),Assembled...   \n",
       "4  Battery Power Type,Battery Size,Bulb Type Incl...   \n",
       "\n",
       "                                               value  \\\n",
       "0  Versatile connector for various 90° connection...   \n",
       "1  Brush,Roller,Spray 6.63 in 7.76 in 6.63 in Rev...   \n",
       "2  Combo Tub and Shower No Includes the trim kit ...   \n",
       "3  Over the Range Microwave 18.5 in 17.13 in 29.9...   \n",
       "4  Ni-Cad .Built-In LED Advanced LED technology i...   \n",
       "\n",
       "                                 product_description  \n",
       "0  Not only do angles make joints stronger, they ...  \n",
       "1  BEHR Premium Textured DECKOVER is an innovativ...  \n",
       "2  Update your bathroom with the Delta Vero Singl...  \n",
       "3  Achieving delicious results is almost effortle...  \n",
       "4  The Quantum Adjustable 2-Light LED Black Emerg...  "
      ]
     },
     "execution_count": 43,
     "metadata": {},
     "output_type": "execute_result"
    }
   ],
   "source": [
    "result_df.head()"
   ]
  },
  {
   "cell_type": "code",
   "execution_count": 44,
   "metadata": {},
   "outputs": [],
   "source": [
    "result_df.to_csv(\"IR_Data\")"
   ]
  },
  {
   "cell_type": "code",
   "execution_count": 45,
   "metadata": {},
   "outputs": [],
   "source": [
    "result_df.drop('relevance', inplace=True, axis=1)"
   ]
  },
  {
   "cell_type": "code",
   "execution_count": 46,
   "metadata": {},
   "outputs": [
    {
     "data": {
      "text/html": [
       "<div>\n",
       "<style scoped>\n",
       "    .dataframe tbody tr th:only-of-type {\n",
       "        vertical-align: middle;\n",
       "    }\n",
       "\n",
       "    .dataframe tbody tr th {\n",
       "        vertical-align: top;\n",
       "    }\n",
       "\n",
       "    .dataframe thead th {\n",
       "        text-align: right;\n",
       "    }\n",
       "</style>\n",
       "<table border=\"1\" class=\"dataframe\">\n",
       "  <thead>\n",
       "    <tr style=\"text-align: right;\">\n",
       "      <th></th>\n",
       "      <th>product_uid</th>\n",
       "      <th>search_term</th>\n",
       "      <th>product_title</th>\n",
       "      <th>name</th>\n",
       "      <th>value</th>\n",
       "      <th>product_description</th>\n",
       "    </tr>\n",
       "  </thead>\n",
       "  <tbody>\n",
       "    <tr>\n",
       "      <th>0</th>\n",
       "      <td>100001</td>\n",
       "      <td>angle bracket ,l bracket</td>\n",
       "      <td>Simpson Strong-Tie 12-Gauge Angle,Simpson Stro...</td>\n",
       "      <td>Bullet01,Bullet02,Bullet03,Bullet04,Bullet05,B...</td>\n",
       "      <td>Versatile connector for various 90° connection...</td>\n",
       "      <td>Not only do angles make joints stronger, they ...</td>\n",
       "    </tr>\n",
       "    <tr>\n",
       "      <th>1</th>\n",
       "      <td>100002</td>\n",
       "      <td>deck over</td>\n",
       "      <td>BEHR Premium Textured DeckOver 1-gal. #SC-141 ...</td>\n",
       "      <td>Application Method,Assembled Depth (in.),Assem...</td>\n",
       "      <td>Brush,Roller,Spray 6.63 in 7.76 in 6.63 in Rev...</td>\n",
       "      <td>BEHR Premium Textured DECKOVER is an innovativ...</td>\n",
       "    </tr>\n",
       "    <tr>\n",
       "      <th>2</th>\n",
       "      <td>100005</td>\n",
       "      <td>rain shower head ,shower only faucet</td>\n",
       "      <td>Delta Vero 1-Handle Shower Only Faucet Trim Ki...</td>\n",
       "      <td>Bath Faucet Type,Built-in Water Filter,Bullet0...</td>\n",
       "      <td>Combo Tub and Shower No Includes the trim kit ...</td>\n",
       "      <td>Update your bathroom with the Delta Vero Singl...</td>\n",
       "    </tr>\n",
       "    <tr>\n",
       "      <th>3</th>\n",
       "      <td>100006</td>\n",
       "      <td>convection otr ,microwave over stove ,microwaves</td>\n",
       "      <td>Whirlpool 1.9 cu. ft. Over the Range Convectio...</td>\n",
       "      <td>Appliance Type,Assembled Depth (in.),Assembled...</td>\n",
       "      <td>Over the Range Microwave 18.5 in 17.13 in 29.9...</td>\n",
       "      <td>Achieving delicious results is almost effortle...</td>\n",
       "    </tr>\n",
       "    <tr>\n",
       "      <th>4</th>\n",
       "      <td>100007</td>\n",
       "      <td>emergency light</td>\n",
       "      <td>Lithonia Lighting Quantum 2-Light Black LED Em...</td>\n",
       "      <td>Battery Power Type,Battery Size,Bulb Type Incl...</td>\n",
       "      <td>Ni-Cad .Built-In LED Advanced LED technology i...</td>\n",
       "      <td>The Quantum Adjustable 2-Light LED Black Emerg...</td>\n",
       "    </tr>\n",
       "  </tbody>\n",
       "</table>\n",
       "</div>"
      ],
      "text/plain": [
       "   product_uid                                       search_term  \\\n",
       "0       100001                          angle bracket ,l bracket   \n",
       "1       100002                                         deck over   \n",
       "2       100005              rain shower head ,shower only faucet   \n",
       "3       100006  convection otr ,microwave over stove ,microwaves   \n",
       "4       100007                                   emergency light   \n",
       "\n",
       "                                       product_title  \\\n",
       "0  Simpson Strong-Tie 12-Gauge Angle,Simpson Stro...   \n",
       "1  BEHR Premium Textured DeckOver 1-gal. #SC-141 ...   \n",
       "2  Delta Vero 1-Handle Shower Only Faucet Trim Ki...   \n",
       "3  Whirlpool 1.9 cu. ft. Over the Range Convectio...   \n",
       "4  Lithonia Lighting Quantum 2-Light Black LED Em...   \n",
       "\n",
       "                                                name  \\\n",
       "0  Bullet01,Bullet02,Bullet03,Bullet04,Bullet05,B...   \n",
       "1  Application Method,Assembled Depth (in.),Assem...   \n",
       "2  Bath Faucet Type,Built-in Water Filter,Bullet0...   \n",
       "3  Appliance Type,Assembled Depth (in.),Assembled...   \n",
       "4  Battery Power Type,Battery Size,Bulb Type Incl...   \n",
       "\n",
       "                                               value  \\\n",
       "0  Versatile connector for various 90° connection...   \n",
       "1  Brush,Roller,Spray 6.63 in 7.76 in 6.63 in Rev...   \n",
       "2  Combo Tub and Shower No Includes the trim kit ...   \n",
       "3  Over the Range Microwave 18.5 in 17.13 in 29.9...   \n",
       "4  Ni-Cad .Built-In LED Advanced LED technology i...   \n",
       "\n",
       "                                 product_description  \n",
       "0  Not only do angles make joints stronger, they ...  \n",
       "1  BEHR Premium Textured DECKOVER is an innovativ...  \n",
       "2  Update your bathroom with the Delta Vero Singl...  \n",
       "3  Achieving delicious results is almost effortle...  \n",
       "4  The Quantum Adjustable 2-Light LED Black Emerg...  "
      ]
     },
     "execution_count": 46,
     "metadata": {},
     "output_type": "execute_result"
    }
   ],
   "source": [
    "result_df.head()"
   ]
  },
  {
   "cell_type": "code",
   "execution_count": 47,
   "metadata": {},
   "outputs": [],
   "source": [
    "result_df.to_csv(\"IR_Data_without_relevance\")"
   ]
  },
  {
   "cell_type": "code",
   "execution_count": 48,
   "metadata": {},
   "outputs": [],
   "source": [
    "result_df[\"bag_of_words\"] = result_df[\"name\"] + result_df[\"value\"] + result_df[\"product_description\"]"
   ]
  },
  {
   "cell_type": "code",
   "execution_count": 49,
   "metadata": {},
   "outputs": [],
   "source": [
    "result_df = result_df.drop([\"name\",\"value\",\"product_description\"], axis = 1)"
   ]
  },
  {
   "cell_type": "code",
   "execution_count": 50,
   "metadata": {},
   "outputs": [
    {
     "data": {
      "text/html": [
       "<div>\n",
       "<style scoped>\n",
       "    .dataframe tbody tr th:only-of-type {\n",
       "        vertical-align: middle;\n",
       "    }\n",
       "\n",
       "    .dataframe tbody tr th {\n",
       "        vertical-align: top;\n",
       "    }\n",
       "\n",
       "    .dataframe thead th {\n",
       "        text-align: right;\n",
       "    }\n",
       "</style>\n",
       "<table border=\"1\" class=\"dataframe\">\n",
       "  <thead>\n",
       "    <tr style=\"text-align: right;\">\n",
       "      <th></th>\n",
       "      <th>product_uid</th>\n",
       "      <th>search_term</th>\n",
       "      <th>product_title</th>\n",
       "      <th>bag_of_words</th>\n",
       "    </tr>\n",
       "  </thead>\n",
       "  <tbody>\n",
       "    <tr>\n",
       "      <th>0</th>\n",
       "      <td>100001</td>\n",
       "      <td>angle bracket ,l bracket</td>\n",
       "      <td>Simpson Strong-Tie 12-Gauge Angle,Simpson Stro...</td>\n",
       "      <td>Bullet01,Bullet02,Bullet03,Bullet04,Bullet05,B...</td>\n",
       "    </tr>\n",
       "    <tr>\n",
       "      <th>1</th>\n",
       "      <td>100002</td>\n",
       "      <td>deck over</td>\n",
       "      <td>BEHR Premium Textured DeckOver 1-gal. #SC-141 ...</td>\n",
       "      <td>Application Method,Assembled Depth (in.),Assem...</td>\n",
       "    </tr>\n",
       "    <tr>\n",
       "      <th>2</th>\n",
       "      <td>100005</td>\n",
       "      <td>rain shower head ,shower only faucet</td>\n",
       "      <td>Delta Vero 1-Handle Shower Only Faucet Trim Ki...</td>\n",
       "      <td>Bath Faucet Type,Built-in Water Filter,Bullet0...</td>\n",
       "    </tr>\n",
       "    <tr>\n",
       "      <th>3</th>\n",
       "      <td>100006</td>\n",
       "      <td>convection otr ,microwave over stove ,microwaves</td>\n",
       "      <td>Whirlpool 1.9 cu. ft. Over the Range Convectio...</td>\n",
       "      <td>Appliance Type,Assembled Depth (in.),Assembled...</td>\n",
       "    </tr>\n",
       "    <tr>\n",
       "      <th>4</th>\n",
       "      <td>100007</td>\n",
       "      <td>emergency light</td>\n",
       "      <td>Lithonia Lighting Quantum 2-Light Black LED Em...</td>\n",
       "      <td>Battery Power Type,Battery Size,Bulb Type Incl...</td>\n",
       "    </tr>\n",
       "  </tbody>\n",
       "</table>\n",
       "</div>"
      ],
      "text/plain": [
       "   product_uid                                       search_term  \\\n",
       "0       100001                          angle bracket ,l bracket   \n",
       "1       100002                                         deck over   \n",
       "2       100005              rain shower head ,shower only faucet   \n",
       "3       100006  convection otr ,microwave over stove ,microwaves   \n",
       "4       100007                                   emergency light   \n",
       "\n",
       "                                       product_title  \\\n",
       "0  Simpson Strong-Tie 12-Gauge Angle,Simpson Stro...   \n",
       "1  BEHR Premium Textured DeckOver 1-gal. #SC-141 ...   \n",
       "2  Delta Vero 1-Handle Shower Only Faucet Trim Ki...   \n",
       "3  Whirlpool 1.9 cu. ft. Over the Range Convectio...   \n",
       "4  Lithonia Lighting Quantum 2-Light Black LED Em...   \n",
       "\n",
       "                                        bag_of_words  \n",
       "0  Bullet01,Bullet02,Bullet03,Bullet04,Bullet05,B...  \n",
       "1  Application Method,Assembled Depth (in.),Assem...  \n",
       "2  Bath Faucet Type,Built-in Water Filter,Bullet0...  \n",
       "3  Appliance Type,Assembled Depth (in.),Assembled...  \n",
       "4  Battery Power Type,Battery Size,Bulb Type Incl...  "
      ]
     },
     "execution_count": 50,
     "metadata": {},
     "output_type": "execute_result"
    }
   ],
   "source": [
    "result_df.head()"
   ]
  },
  {
   "cell_type": "code",
   "execution_count": 51,
   "metadata": {},
   "outputs": [],
   "source": [
    "result_df[\"bag_of_words_cleaned\"] = result_df[\"bag_of_words\"].apply(lambda words: ' '.join(word.strip().lower() for word in words.split(\",\") if word not in stop))"
   ]
  },
  {
   "cell_type": "code",
   "execution_count": 52,
   "metadata": {},
   "outputs": [],
   "source": [
    "# remove the regular expression\n",
    "for index, row in result_df.iterrows():\n",
    "    result_df.loc[index,'bag_of_words_cleaned'] = (re.sub('[^a-zA-Z0-9 \\n]', '', row['bag_of_words_cleaned']))\n",
    "    "
   ]
  },
  {
   "cell_type": "code",
   "execution_count": 53,
   "metadata": {},
   "outputs": [
    {
     "data": {
      "text/html": [
       "<div>\n",
       "<style scoped>\n",
       "    .dataframe tbody tr th:only-of-type {\n",
       "        vertical-align: middle;\n",
       "    }\n",
       "\n",
       "    .dataframe tbody tr th {\n",
       "        vertical-align: top;\n",
       "    }\n",
       "\n",
       "    .dataframe thead th {\n",
       "        text-align: right;\n",
       "    }\n",
       "</style>\n",
       "<table border=\"1\" class=\"dataframe\">\n",
       "  <thead>\n",
       "    <tr style=\"text-align: right;\">\n",
       "      <th></th>\n",
       "      <th>product_uid</th>\n",
       "      <th>search_term</th>\n",
       "      <th>product_title</th>\n",
       "      <th>bag_of_words</th>\n",
       "      <th>bag_of_words_cleaned</th>\n",
       "    </tr>\n",
       "  </thead>\n",
       "  <tbody>\n",
       "    <tr>\n",
       "      <th>0</th>\n",
       "      <td>100001</td>\n",
       "      <td>angle bracket ,l bracket</td>\n",
       "      <td>Simpson Strong-Tie 12-Gauge Angle,Simpson Stro...</td>\n",
       "      <td>Bullet01,Bullet02,Bullet03,Bullet04,Bullet05,B...</td>\n",
       "      <td>bullet01 bullet02 bullet03 bullet04 bullet05 b...</td>\n",
       "    </tr>\n",
       "    <tr>\n",
       "      <th>1</th>\n",
       "      <td>100002</td>\n",
       "      <td>deck over</td>\n",
       "      <td>BEHR Premium Textured DeckOver 1-gal. #SC-141 ...</td>\n",
       "      <td>Application Method,Assembled Depth (in.),Assem...</td>\n",
       "      <td>application method assembled depth in assemble...</td>\n",
       "    </tr>\n",
       "    <tr>\n",
       "      <th>2</th>\n",
       "      <td>100005</td>\n",
       "      <td>rain shower head ,shower only faucet</td>\n",
       "      <td>Delta Vero 1-Handle Shower Only Faucet Trim Ki...</td>\n",
       "      <td>Bath Faucet Type,Built-in Water Filter,Bullet0...</td>\n",
       "      <td>bath faucet type builtin water filter bullet01...</td>\n",
       "    </tr>\n",
       "    <tr>\n",
       "      <th>3</th>\n",
       "      <td>100006</td>\n",
       "      <td>convection otr ,microwave over stove ,microwaves</td>\n",
       "      <td>Whirlpool 1.9 cu. ft. Over the Range Convectio...</td>\n",
       "      <td>Appliance Type,Assembled Depth (in.),Assembled...</td>\n",
       "      <td>appliance type assembled depth in assembled he...</td>\n",
       "    </tr>\n",
       "    <tr>\n",
       "      <th>4</th>\n",
       "      <td>100007</td>\n",
       "      <td>emergency light</td>\n",
       "      <td>Lithonia Lighting Quantum 2-Light Black LED Em...</td>\n",
       "      <td>Battery Power Type,Battery Size,Bulb Type Incl...</td>\n",
       "      <td>battery power type battery size bulb type incl...</td>\n",
       "    </tr>\n",
       "  </tbody>\n",
       "</table>\n",
       "</div>"
      ],
      "text/plain": [
       "   product_uid                                       search_term  \\\n",
       "0       100001                          angle bracket ,l bracket   \n",
       "1       100002                                         deck over   \n",
       "2       100005              rain shower head ,shower only faucet   \n",
       "3       100006  convection otr ,microwave over stove ,microwaves   \n",
       "4       100007                                   emergency light   \n",
       "\n",
       "                                       product_title  \\\n",
       "0  Simpson Strong-Tie 12-Gauge Angle,Simpson Stro...   \n",
       "1  BEHR Premium Textured DeckOver 1-gal. #SC-141 ...   \n",
       "2  Delta Vero 1-Handle Shower Only Faucet Trim Ki...   \n",
       "3  Whirlpool 1.9 cu. ft. Over the Range Convectio...   \n",
       "4  Lithonia Lighting Quantum 2-Light Black LED Em...   \n",
       "\n",
       "                                        bag_of_words  \\\n",
       "0  Bullet01,Bullet02,Bullet03,Bullet04,Bullet05,B...   \n",
       "1  Application Method,Assembled Depth (in.),Assem...   \n",
       "2  Bath Faucet Type,Built-in Water Filter,Bullet0...   \n",
       "3  Appliance Type,Assembled Depth (in.),Assembled...   \n",
       "4  Battery Power Type,Battery Size,Bulb Type Incl...   \n",
       "\n",
       "                                bag_of_words_cleaned  \n",
       "0  bullet01 bullet02 bullet03 bullet04 bullet05 b...  \n",
       "1  application method assembled depth in assemble...  \n",
       "2  bath faucet type builtin water filter bullet01...  \n",
       "3  appliance type assembled depth in assembled he...  \n",
       "4  battery power type battery size bulb type incl...  "
      ]
     },
     "execution_count": 53,
     "metadata": {},
     "output_type": "execute_result"
    }
   ],
   "source": [
    "result_df.head()"
   ]
  },
  {
   "cell_type": "code",
   "execution_count": 54,
   "metadata": {},
   "outputs": [
    {
     "data": {
      "text/plain": [
       "0    bullet01 bullet02 bullet03 bullet04 bullet05 b...\n",
       "1    application method assembled depth in assemble...\n",
       "2    bath faucet type builtin water filter bullet01...\n",
       "3    appliance type assembled depth in assembled he...\n",
       "4    battery power type battery size bulb type incl...\n",
       "Name: bag_of_words_cleaned, dtype: object"
      ]
     },
     "execution_count": 54,
     "metadata": {},
     "output_type": "execute_result"
    }
   ],
   "source": [
    "result_df['bag_of_words_cleaned'].head()"
   ]
  },
  {
   "cell_type": "code",
   "execution_count": 55,
   "metadata": {},
   "outputs": [],
   "source": [
    "# instansiate the RegexpTokenizer\n",
    "tokenizer = RegexpTokenizer(r'\\w+')"
   ]
  },
  {
   "cell_type": "code",
   "execution_count": 56,
   "metadata": {},
   "outputs": [],
   "source": [
    "# change the bag of words to string\n",
    "result_df['bag_of_words_cleaned'] = result_df['bag_of_words_cleaned'].astype(\"str\")"
   ]
  },
  {
   "cell_type": "code",
   "execution_count": 57,
   "metadata": {},
   "outputs": [],
   "source": [
    "result_df['bag_of_words_cleaned'] = result_df['bag_of_words_cleaned'].replace(\"in\", \"\")"
   ]
  },
  {
   "cell_type": "code",
   "execution_count": 58,
   "metadata": {},
   "outputs": [],
   "source": [
    "# tokenize the string\n",
    "result_df['bag_of_words_cleaned'] = result_df['bag_of_words_cleaned'].apply(lambda x: tokenizer.tokenize(x))"
   ]
  },
  {
   "cell_type": "code",
   "execution_count": 59,
   "metadata": {},
   "outputs": [],
   "source": [
    "stop_words = set(stopwords.words('english')) \n",
    "def remove_stopwords(text):\n",
    "    \n",
    "    words = [w for w in text if w not in stop_words]\n",
    "    return words"
   ]
  },
  {
   "cell_type": "code",
   "execution_count": 60,
   "metadata": {},
   "outputs": [
    {
     "data": {
      "text/plain": [
       "0    [bullet01, bullet02, bullet03, bullet04, bulle...\n",
       "1    [application, method, assembled, depth, assemb...\n",
       "2    [bath, faucet, type, builtin, water, filter, b...\n",
       "3    [appliance, type, assembled, depth, assembled,...\n",
       "4    [battery, power, type, battery, size, bulb, ty...\n",
       "Name: bag_of_words_cleaned, dtype: object"
      ]
     },
     "execution_count": 60,
     "metadata": {},
     "output_type": "execute_result"
    }
   ],
   "source": [
    "result_df['bag_of_words_cleaned'] = result_df['bag_of_words_cleaned'].apply(lambda x : remove_stopwords(x))\n",
    "result_df['bag_of_words_cleaned'].head()"
   ]
  },
  {
   "cell_type": "markdown",
   "metadata": {},
   "source": [
    "### lemmatization"
   ]
  },
  {
   "cell_type": "code",
   "execution_count": 61,
   "metadata": {},
   "outputs": [],
   "source": [
    "# instantiate lemmatizer\n",
    "lemmatizer = WordNetLemmatizer()\n",
    "\n",
    "def word_lemmatizer(text):\n",
    "    lem_text = [lemmatizer.lemmatize(i) for i in text]\n",
    "    return lem_text"
   ]
  },
  {
   "cell_type": "code",
   "execution_count": 62,
   "metadata": {},
   "outputs": [],
   "source": [
    "result_df['bag_of_words_cleaned'] = result_df['bag_of_words_cleaned'].apply(lambda x: word_lemmatizer(x))"
   ]
  },
  {
   "cell_type": "markdown",
   "metadata": {},
   "source": [
    "### stemming"
   ]
  },
  {
   "cell_type": "code",
   "execution_count": 63,
   "metadata": {},
   "outputs": [],
   "source": [
    "# instantiate stemmer\n",
    "stemmer = PorterStemmer()"
   ]
  },
  {
   "cell_type": "code",
   "execution_count": 64,
   "metadata": {},
   "outputs": [],
   "source": [
    "def word_stemmer(text):\n",
    "    stem_text = \" \".join([stemmer.stem(i) for i in text])\n",
    "    return stem_text\n"
   ]
  },
  {
   "cell_type": "code",
   "execution_count": 65,
   "metadata": {},
   "outputs": [],
   "source": [
    "result_df['bag_of_words_cleaned'] = result_df['bag_of_words_cleaned'].apply(lambda x: word_stemmer(x))"
   ]
  },
  {
   "cell_type": "code",
   "execution_count": 66,
   "metadata": {},
   "outputs": [],
   "source": [
    "result_df['bag_of_words_cleaned'] = result_df['bag_of_words_cleaned'].astype(str)"
   ]
  },
  {
   "cell_type": "code",
   "execution_count": 67,
   "metadata": {},
   "outputs": [],
   "source": [
    "import collections\n",
    "count = collections.Counter(result_df['bag_of_words_cleaned'][:1])"
   ]
  },
  {
   "cell_type": "code",
   "execution_count": 68,
   "metadata": {},
   "outputs": [],
   "source": [
    "from nltk.tokenize import word_tokenize\n",
    "\n",
    "processed_text = []\n",
    "\n",
    "for i in result_df['bag_of_words_cleaned']:\n",
    "    text = i.strip()\n",
    "    processed_text.append(word_tokenize(str(text)))\n",
    "    "
   ]
  },
  {
   "cell_type": "code",
   "execution_count": 69,
   "metadata": {},
   "outputs": [],
   "source": [
    "total_vocab = [x for x in result_df]"
   ]
  },
  {
   "cell_type": "code",
   "execution_count": 70,
   "metadata": {},
   "outputs": [
    {
     "data": {
      "text/html": [
       "<div>\n",
       "<style scoped>\n",
       "    .dataframe tbody tr th:only-of-type {\n",
       "        vertical-align: middle;\n",
       "    }\n",
       "\n",
       "    .dataframe tbody tr th {\n",
       "        vertical-align: top;\n",
       "    }\n",
       "\n",
       "    .dataframe thead th {\n",
       "        text-align: right;\n",
       "    }\n",
       "</style>\n",
       "<table border=\"1\" class=\"dataframe\">\n",
       "  <thead>\n",
       "    <tr style=\"text-align: right;\">\n",
       "      <th></th>\n",
       "      <th>product_uid</th>\n",
       "      <th>search_term</th>\n",
       "      <th>product_title</th>\n",
       "      <th>bag_of_words</th>\n",
       "      <th>bag_of_words_cleaned</th>\n",
       "    </tr>\n",
       "  </thead>\n",
       "  <tbody>\n",
       "    <tr>\n",
       "      <th>0</th>\n",
       "      <td>100001</td>\n",
       "      <td>angle bracket ,l bracket</td>\n",
       "      <td>Simpson Strong-Tie 12-Gauge Angle,Simpson Stro...</td>\n",
       "      <td>Bullet01,Bullet02,Bullet03,Bullet04,Bullet05,B...</td>\n",
       "      <td>bullet01 bullet02 bullet03 bullet04 bullet05 b...</td>\n",
       "    </tr>\n",
       "    <tr>\n",
       "      <th>1</th>\n",
       "      <td>100002</td>\n",
       "      <td>deck over</td>\n",
       "      <td>BEHR Premium Textured DeckOver 1-gal. #SC-141 ...</td>\n",
       "      <td>Application Method,Assembled Depth (in.),Assem...</td>\n",
       "      <td>applic method assembl depth assembl height ass...</td>\n",
       "    </tr>\n",
       "    <tr>\n",
       "      <th>2</th>\n",
       "      <td>100005</td>\n",
       "      <td>rain shower head ,shower only faucet</td>\n",
       "      <td>Delta Vero 1-Handle Shower Only Faucet Trim Ki...</td>\n",
       "      <td>Bath Faucet Type,Built-in Water Filter,Bullet0...</td>\n",
       "      <td>bath faucet type builtin water filter bullet01...</td>\n",
       "    </tr>\n",
       "    <tr>\n",
       "      <th>3</th>\n",
       "      <td>100006</td>\n",
       "      <td>convection otr ,microwave over stove ,microwaves</td>\n",
       "      <td>Whirlpool 1.9 cu. ft. Over the Range Convectio...</td>\n",
       "      <td>Appliance Type,Assembled Depth (in.),Assembled...</td>\n",
       "      <td>applianc type assembl depth assembl height ass...</td>\n",
       "    </tr>\n",
       "    <tr>\n",
       "      <th>4</th>\n",
       "      <td>100007</td>\n",
       "      <td>emergency light</td>\n",
       "      <td>Lithonia Lighting Quantum 2-Light Black LED Em...</td>\n",
       "      <td>Battery Power Type,Battery Size,Bulb Type Incl...</td>\n",
       "      <td>batteri power type batteri size bulb type incl...</td>\n",
       "    </tr>\n",
       "  </tbody>\n",
       "</table>\n",
       "</div>"
      ],
      "text/plain": [
       "   product_uid                                       search_term  \\\n",
       "0       100001                          angle bracket ,l bracket   \n",
       "1       100002                                         deck over   \n",
       "2       100005              rain shower head ,shower only faucet   \n",
       "3       100006  convection otr ,microwave over stove ,microwaves   \n",
       "4       100007                                   emergency light   \n",
       "\n",
       "                                       product_title  \\\n",
       "0  Simpson Strong-Tie 12-Gauge Angle,Simpson Stro...   \n",
       "1  BEHR Premium Textured DeckOver 1-gal. #SC-141 ...   \n",
       "2  Delta Vero 1-Handle Shower Only Faucet Trim Ki...   \n",
       "3  Whirlpool 1.9 cu. ft. Over the Range Convectio...   \n",
       "4  Lithonia Lighting Quantum 2-Light Black LED Em...   \n",
       "\n",
       "                                        bag_of_words  \\\n",
       "0  Bullet01,Bullet02,Bullet03,Bullet04,Bullet05,B...   \n",
       "1  Application Method,Assembled Depth (in.),Assem...   \n",
       "2  Bath Faucet Type,Built-in Water Filter,Bullet0...   \n",
       "3  Appliance Type,Assembled Depth (in.),Assembled...   \n",
       "4  Battery Power Type,Battery Size,Bulb Type Incl...   \n",
       "\n",
       "                                bag_of_words_cleaned  \n",
       "0  bullet01 bullet02 bullet03 bullet04 bullet05 b...  \n",
       "1  applic method assembl depth assembl height ass...  \n",
       "2  bath faucet type builtin water filter bullet01...  \n",
       "3  applianc type assembl depth assembl height ass...  \n",
       "4  batteri power type batteri size bulb type incl...  "
      ]
     },
     "execution_count": 70,
     "metadata": {},
     "output_type": "execute_result"
    }
   ],
   "source": [
    "result_df.head()"
   ]
  },
  {
   "cell_type": "code",
   "execution_count": 71,
   "metadata": {},
   "outputs": [],
   "source": [
    "cleaned_df = result_df.drop(['bag_of_words'], axis = 1)"
   ]
  },
  {
   "cell_type": "code",
   "execution_count": 72,
   "metadata": {},
   "outputs": [],
   "source": [
    "cleaned_df.to_csv(\"cleaned_IR_data_final\")"
   ]
  },
  {
   "cell_type": "code",
   "execution_count": null,
   "metadata": {},
   "outputs": [],
   "source": []
  }
 ],
 "metadata": {
  "kernelspec": {
   "display_name": "Python 3",
   "language": "python",
   "name": "python3"
  },
  "language_info": {
   "codemirror_mode": {
    "name": "ipython",
    "version": 3
   },
   "file_extension": ".py",
   "mimetype": "text/x-python",
   "name": "python",
   "nbconvert_exporter": "python",
   "pygments_lexer": "ipython3",
   "version": "3.7.3"
  }
 },
 "nbformat": 4,
 "nbformat_minor": 2
}
